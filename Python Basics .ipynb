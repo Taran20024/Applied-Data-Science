{
 "cells": [
  {
   "cell_type": "code",
   "execution_count": 1,
   "id": "2ff9ef51",
   "metadata": {},
   "outputs": [
    {
     "name": "stdout",
     "output_type": "stream",
     "text": [
      "Hello World\n"
     ]
    }
   ],
   "source": [
    "print(\"Hello World\")"
   ]
  },
  {
   "cell_type": "markdown",
   "id": "a38c5dc6",
   "metadata": {},
   "source": [
    "print(\"Taran Akshay\")"
   ]
  },
  {
   "cell_type": "markdown",
   "id": "03b8e253",
   "metadata": {},
   "source": [
    "# Heading \n"
   ]
  },
  {
   "cell_type": "markdown",
   "id": "037d28b9",
   "metadata": {},
   "source": [
    "### Heading with 3 hash\n"
   ]
  },
  {
   "cell_type": "code",
   "execution_count": 3,
   "id": "b26dcf8b",
   "metadata": {},
   "outputs": [
    {
     "name": "stdout",
     "output_type": "stream",
     "text": [
      "5\n"
     ]
    }
   ],
   "source": [
    "print(5)"
   ]
  },
  {
   "cell_type": "code",
   "execution_count": 4,
   "id": "e13a87af",
   "metadata": {},
   "outputs": [
    {
     "name": "stdout",
     "output_type": "stream",
     "text": [
      "2.5\n"
     ]
    }
   ],
   "source": [
    "print(2.5)"
   ]
  },
  {
   "cell_type": "raw",
   "id": "1a968e2d",
   "metadata": {},
   "source": [
    "Data types\n",
    "1. int\n",
    "2. float\n",
    "3. boolean"
   ]
  },
  {
   "cell_type": "code",
   "execution_count": 7,
   "id": "dd0051c8",
   "metadata": {},
   "outputs": [
    {
     "name": "stdout",
     "output_type": "stream",
     "text": [
      "a/b/c\n"
     ]
    }
   ],
   "source": [
    "print(\"a\",\"b\",\"c\", sep= '/')"
   ]
  },
  {
   "cell_type": "raw",
   "id": "7f8e916e",
   "metadata": {},
   "source": []
  },
  {
   "cell_type": "code",
   "execution_count": 8,
   "id": "374bb48e",
   "metadata": {},
   "outputs": [
    {
     "name": "stdout",
     "output_type": "stream",
     "text": [
      "Enter value:10\n",
      "10\n"
     ]
    }
   ],
   "source": [
    "x=int(input(\"Enter value:\"))\n",
    "print(x)"
   ]
  },
  {
   "cell_type": "markdown",
   "id": "da278229",
   "metadata": {},
   "source": [
    "# OPERATORS"
   ]
  },
  {
   "cell_type": "code",
   "execution_count": 9,
   "id": "f1f21ebc",
   "metadata": {},
   "outputs": [
    {
     "name": "stdout",
     "output_type": "stream",
     "text": [
      "13\n",
      "7\n",
      "30\n",
      "3\n",
      "1000\n"
     ]
    }
   ],
   "source": [
    "# ARETHMETIC OPERATORS\n",
    "a = 10\n",
    "b = 3\n",
    "print(a+b)\n",
    "print(a-b)\n",
    "print(a*b)\n",
    "print(a//b)\n",
    "print(a**b)"
   ]
  },
  {
   "cell_type": "code",
   "execution_count": 10,
   "id": "d90f13f3",
   "metadata": {},
   "outputs": [
    {
     "name": "stdout",
     "output_type": "stream",
     "text": [
      "True\n",
      "True\n"
     ]
    }
   ],
   "source": [
    "# MEMBERSHIP OPERATOR\n",
    "s = \"python\"\n",
    "\n",
    "print('y' in s)\n",
    "print('h' in s)"
   ]
  },
  {
   "cell_type": "markdown",
   "id": "68058f39",
   "metadata": {},
   "source": [
    "### Statements"
   ]
  },
  {
   "cell_type": "code",
   "execution_count": 2,
   "id": "6c330c95",
   "metadata": {},
   "outputs": [
    {
     "name": "stdout",
     "output_type": "stream",
     "text": [
      "Enter a Number100\n",
      "Fav number\n"
     ]
    }
   ],
   "source": [
    "# IF ELSE\n",
    "x = int(input(\"Enter a Number\"))\n",
    "\n",
    "if x == 100:\n",
    "    print(\"Fav number\")\n",
    "else:  \n",
    "    print(\"Not fav number\")"
   ]
  },
  {
   "cell_type": "code",
   "execution_count": 3,
   "id": "0bc9d08b",
   "metadata": {},
   "outputs": [
    {
     "name": "stdout",
     "output_type": "stream",
     "text": [
      "Enter a:5\n",
      "Enter b:7\n",
      "b is greater\n"
     ]
    }
   ],
   "source": [
    "# ELIF\n",
    "a = int(input(\"Enter a:\"))\n",
    "b = int(input(\"Enter b:\"))\n",
    "\n",
    "if a<b:\n",
    "    print(\"b is greater\")\n",
    "elif a>b:\n",
    "    print(\"a is greater\")"
   ]
  },
  {
   "cell_type": "markdown",
   "id": "8d8badab",
   "metadata": {},
   "source": [
    "### LOOPS\n"
   ]
  },
  {
   "cell_type": "code",
   "execution_count": 6,
   "id": "ab125849",
   "metadata": {},
   "outputs": [],
   "source": [
    "# FOR LOOP\n",
    "list= [\"taran\",\"akshay\",\"raj\",\"ram\"]"
   ]
  },
  {
   "cell_type": "code",
   "execution_count": 9,
   "id": "22db4791",
   "metadata": {},
   "outputs": [
    {
     "name": "stdout",
     "output_type": "stream",
     "text": [
      "taran\n",
      "akshay\n",
      "raj\n",
      "ram\n"
     ]
    }
   ],
   "source": [
    "for i in list:\n",
    "    print (i)"
   ]
  },
  {
   "cell_type": "code",
   "execution_count": 10,
   "id": "e3bc4666",
   "metadata": {},
   "outputs": [
    {
     "name": "stdout",
     "output_type": "stream",
     "text": [
      "0\n",
      "1\n",
      "2\n",
      "3\n",
      "4\n",
      "5\n",
      "6\n",
      "7\n",
      "8\n",
      "9\n"
     ]
    }
   ],
   "source": [
    "for i in range(10):\n",
    "    print (i)"
   ]
  },
  {
   "cell_type": "code",
   "execution_count": 11,
   "id": "acbdc11b",
   "metadata": {},
   "outputs": [
    {
     "name": "stdout",
     "output_type": "stream",
     "text": [
      "0\n",
      "1\n",
      "2\n",
      "3\n",
      "4\n",
      "5\n"
     ]
    }
   ],
   "source": [
    "# WHILE LOOP\n",
    "\n",
    "i = 0\n",
    "\n",
    "while i<=5:\n",
    "    print(i)\n",
    "    i+=1"
   ]
  },
  {
   "cell_type": "code",
   "execution_count": 12,
   "id": "6a5b1981",
   "metadata": {},
   "outputs": [
    {
     "name": "stdout",
     "output_type": "stream",
     "text": [
      "1\n",
      "2\n",
      "3\n",
      "4\n",
      "5\n",
      "7\n",
      "8\n"
     ]
    }
   ],
   "source": [
    "# WHILE LOOP WITH CONTINUE STATEMENT\n",
    "# prints all the elements until condition gets false and skips to that if confition\n",
    "\n",
    "i = 0\n",
    "\n",
    "while i<=7:\n",
    "    i+=1\n",
    "    if i==6:\n",
    "        continue\n",
    "    print (i)    "
   ]
  },
  {
   "cell_type": "code",
   "execution_count": 14,
   "id": "bab9ff1c",
   "metadata": {},
   "outputs": [
    {
     "name": "stdout",
     "output_type": "stream",
     "text": [
      "1\n",
      "2\n",
      "3\n"
     ]
    }
   ],
   "source": [
    "# WHILE LOOP WITH BREAK STATEMENT\n",
    "\n",
    "i = 1\n",
    "while i<6:\n",
    "    print(i)\n",
    "    if i==3:\n",
    "        break\n",
    "    i+=1    "
   ]
  },
  {
   "cell_type": "code",
   "execution_count": 15,
   "id": "c7c1c01d",
   "metadata": {},
   "outputs": [
    {
     "name": "stdout",
     "output_type": "stream",
     "text": [
      "Present letter: C\n",
      "Present letter: a\n",
      "Present letter: m\n",
      "Present letter: b\n",
      "Present letter: r\n",
      "Present letter: i\n",
      "Present letter: d\n",
      "Present letter: e\n"
     ]
    }
   ],
   "source": [
    "# WHILELOOP WITH PASS STATEMENT\n",
    "\n",
    "i = 0\n",
    "str1=\"Cambridge\"\n",
    "\n",
    "while i<len(str1):\n",
    "    if str1[i] == \"g\":\n",
    "        i=i+1\n",
    "        \n",
    "        pass\n",
    "    print(\"Present letter:\",str1[i])\n",
    "    i=i+1"
   ]
  },
  {
   "cell_type": "code",
   "execution_count": 18,
   "id": "bbec9b32",
   "metadata": {},
   "outputs": [],
   "source": [
    "# CALLING A FUNCTION\n",
    "def func1(fname1):\n",
    "    print(\"Good evening \"+fname1)"
   ]
  },
  {
   "cell_type": "code",
   "execution_count": 19,
   "id": "b24161a9",
   "metadata": {},
   "outputs": [
    {
     "name": "stdout",
     "output_type": "stream",
     "text": [
      "Good evening Tommy\n"
     ]
    }
   ],
   "source": [
    "func1(\"Tommy\")"
   ]
  },
  {
   "cell_type": "code",
   "execution_count": 20,
   "id": "8786c61e",
   "metadata": {},
   "outputs": [],
   "source": [
    "def f3(a,b):\n",
    "    c=a+b\n",
    "    print(c)"
   ]
  },
  {
   "cell_type": "code",
   "execution_count": 21,
   "id": "7a1d3a71",
   "metadata": {},
   "outputs": [
    {
     "name": "stdout",
     "output_type": "stream",
     "text": [
      "9\n"
     ]
    }
   ],
   "source": [
    "f3(5,4)"
   ]
  },
  {
   "cell_type": "code",
   "execution_count": 23,
   "id": "d0902ffb",
   "metadata": {},
   "outputs": [],
   "source": [
    "def area(r):\n",
    "    a = 3.14*r*r\n",
    "    print(a)"
   ]
  },
  {
   "cell_type": "code",
   "execution_count": 24,
   "id": "01949e58",
   "metadata": {},
   "outputs": [
    {
     "name": "stdout",
     "output_type": "stream",
     "text": [
      "78.5\n"
     ]
    }
   ],
   "source": [
    "area(5)"
   ]
  },
  {
   "cell_type": "code",
   "execution_count": 25,
   "id": "f1f2b1fe",
   "metadata": {},
   "outputs": [],
   "source": [
    "def rect(l,b):\n",
    "    area=l*b\n",
    "    print(area)"
   ]
  },
  {
   "cell_type": "code",
   "execution_count": 26,
   "id": "ac8003ba",
   "metadata": {},
   "outputs": [
    {
     "name": "stdout",
     "output_type": "stream",
     "text": [
      "200\n"
     ]
    }
   ],
   "source": [
    "rect(10,20)"
   ]
  },
  {
   "cell_type": "code",
   "execution_count": 28,
   "id": "13f7b3e9",
   "metadata": {},
   "outputs": [],
   "source": [
    "def bmi(weight,height):\n",
    "    return weight/height**2"
   ]
  },
  {
   "cell_type": "code",
   "execution_count": 29,
   "id": "a0602559",
   "metadata": {},
   "outputs": [
    {
     "data": {
      "text/plain": [
       "23.243801652892564"
      ]
     },
     "execution_count": 29,
     "metadata": {},
     "output_type": "execute_result"
    }
   ],
   "source": [
    "bmi(72,1.76)"
   ]
  },
  {
   "cell_type": "markdown",
   "id": "d73af5e2",
   "metadata": {},
   "source": [
    "## LAMBDA FUNCTIONS"
   ]
  },
  {
   "cell_type": "code",
   "execution_count": 30,
   "id": "ca24c493",
   "metadata": {},
   "outputs": [
    {
     "name": "stdout",
     "output_type": "stream",
     "text": [
      "30\n"
     ]
    }
   ],
   "source": [
    "# ADD 10 TO AN ARGUMENT A\n",
    "x = lambda a:a+10\n",
    "print(x(20))"
   ]
  },
  {
   "cell_type": "code",
   "execution_count": 31,
   "id": "e94a6afe",
   "metadata": {},
   "outputs": [
    {
     "name": "stdout",
     "output_type": "stream",
     "text": [
      "70\n"
     ]
    }
   ],
   "source": [
    "# SUMMARIZE THE ARGUMENT WITH 2 ARGUMENT A,B\n",
    "x = lambda a,b:a+b\n",
    "print(x(50,20))"
   ]
  },
  {
   "cell_type": "code",
   "execution_count": 32,
   "id": "cdecc561",
   "metadata": {},
   "outputs": [
    {
     "name": "stdout",
     "output_type": "stream",
     "text": [
      "90\n"
     ]
    }
   ],
   "source": [
    "x = lambda a,b,c:a+b+c\n",
    "print(x(20,30,40))"
   ]
  },
  {
   "cell_type": "code",
   "execution_count": null,
   "id": "725c0897",
   "metadata": {},
   "outputs": [],
   "source": []
  },
  {
   "cell_type": "code",
   "execution_count": null,
   "id": "e72e4f27",
   "metadata": {},
   "outputs": [],
   "source": []
  }
 ],
 "metadata": {
  "kernelspec": {
   "display_name": "Python 3 (ipykernel)",
   "language": "python",
   "name": "python3"
  },
  "language_info": {
   "codemirror_mode": {
    "name": "ipython",
    "version": 3
   },
   "file_extension": ".py",
   "mimetype": "text/x-python",
   "name": "python",
   "nbconvert_exporter": "python",
   "pygments_lexer": "ipython3",
   "version": "3.10.9"
  }
 },
 "nbformat": 4,
 "nbformat_minor": 5
}
